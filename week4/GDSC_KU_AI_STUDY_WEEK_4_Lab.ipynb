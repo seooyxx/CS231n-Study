{
  "nbformat": 4,
  "nbformat_minor": 0,
  "metadata": {
    "accelerator": "GPU",
    "colab": {
      "provenance": []
    },
    "kernelspec": {
      "display_name": "Python 3",
      "name": "python3"
    }
  },
  "cells": [
    {
      "cell_type": "markdown",
      "metadata": {
        "id": "xrUqXYEepD0o"
      },
      "source": [
        "# <b>GAN 실습</b>\n",
        "\n",
        "* 논문 제목: Generative Adversarial Networks <b>(NIPS 2014)</b>\n",
        "* 가장 기본적인 GAN 모델을 학습해보는 실습을 진행합니다.\n",
        "* 학습 데이터셋: <b>MNIST</b> (1 X 28 X 28)"
      ]
    },
    {
      "cell_type": "markdown",
      "metadata": {
        "id": "UEx96DYOpdAK"
      },
      "source": [
        "#### <b>필요한 라이브러리 불러오기</b>\n",
        "\n",
        "* 실습을 위한 PyTorch 라이브러리를 불러옵니다."
      ]
    },
    {
      "cell_type": "code",
      "metadata": {
        "id": "CiRb7M3naHyo"
      },
      "source": [
        "import torch\n",
        "import torch.nn as nn\n",
        "\n",
        "from torchvision import datasets\n",
        "import torchvision.transforms as transforms\n",
        "from torchvision.utils import save_image"
      ],
      "execution_count": null,
      "outputs": []
    },
    {
      "cell_type": "markdown",
      "metadata": {
        "id": "tp4hbA95pihv"
      },
      "source": [
        "#### <b>생성자(Generator) 및 판별자(Discriminator) 모델 정의</b>"
      ]
    },
    {
      "cell_type": "code",
      "metadata": {
        "id": "Hj5al6cTZES1"
      },
      "source": [
        "latent_dim = 100\n",
        "\n",
        "# 생성자(Generator) 클래스 정의\n",
        "class Generator(nn.Module):\n",
        "    def __init__(self):\n",
        "        super(Generator, self).__init__()\n",
        "\n",
        "        # 하나의 블록(block) 정의\n",
        "        def block(input_dim, output_dim):\n",
        "            ##### TODO\n",
        "            return layers\n",
        "\n",
        "        # 생성자 모델은 연속적인 여러 개의 블록을 가짐\n",
        "        self.model = ##### TODO\n",
        "\n",
        "    def forward(self, z):\n",
        "        img = self.model(z)\n",
        "        img = img.view(img.size(0), 1, 28, 28)\n",
        "        return img"
      ],
      "execution_count": null,
      "outputs": []
    },
    {
      "cell_type": "code",
      "metadata": {
        "id": "M_kvtvOhaLX6"
      },
      "source": [
        "# 판별자(Discriminator) 클래스 정의\n",
        "class Discriminator(nn.Module):\n",
        "    def __init__(self):\n",
        "        super(Discriminator, self).__init__()\n",
        "\n",
        "        self.model = ##### TODO\n",
        "\n",
        "    # 이미지에 대한 판별 결과를 반환\n",
        "    def forward(self, img):\n",
        "        flattened = img.view(img.size(0), -1)\n",
        "        output = self.model(flattened)\n",
        "\n",
        "        return output"
      ],
      "execution_count": null,
      "outputs": []
    },
    {
      "cell_type": "markdown",
      "metadata": {
        "id": "NOilX0rBqJXn"
      },
      "source": [
        "#### <b>학습 데이터셋 불러오기</b>\n",
        "\n",
        "* 학습을 위해 MNIST 데이터셋을 불러옵니다."
      ]
    },
    {
      "cell_type": "code",
      "metadata": {
        "id": "HrhXIwtAqM7H",
        "outputId": "4de87ce5-843c-42da-d40f-c7ef3e9b2c60",
        "colab": {
          "base_uri": "https://localhost:8080/"
        }
      },
      "source": [
        "transforms_train = transforms.Compose([\n",
        "    transforms.Resize(28),\n",
        "    transforms.ToTensor(),\n",
        "    transforms.Normalize([0.5], [0.5])\n",
        "])\n",
        "\n",
        "train_dataset = datasets.MNIST(root=\"./dataset\", train=True, download=True, transform=transforms_train)\n",
        "dataloader = torch.utils.data.DataLoader(train_dataset, batch_size=256, shuffle=True, num_workers=4)"
      ],
      "execution_count": null,
      "outputs": [
        {
          "output_type": "stream",
          "name": "stdout",
          "text": [
            "Downloading http://yann.lecun.com/exdb/mnist/train-images-idx3-ubyte.gz\n",
            "Downloading http://yann.lecun.com/exdb/mnist/train-images-idx3-ubyte.gz to ./dataset/MNIST/raw/train-images-idx3-ubyte.gz\n"
          ]
        },
        {
          "output_type": "stream",
          "name": "stderr",
          "text": [
            "100%|██████████| 9912422/9912422 [00:00<00:00, 401814161.05it/s]"
          ]
        },
        {
          "output_type": "stream",
          "name": "stdout",
          "text": [
            "Extracting ./dataset/MNIST/raw/train-images-idx3-ubyte.gz to ./dataset/MNIST/raw\n"
          ]
        },
        {
          "output_type": "stream",
          "name": "stderr",
          "text": [
            "\n"
          ]
        },
        {
          "output_type": "stream",
          "name": "stdout",
          "text": [
            "\n",
            "Downloading http://yann.lecun.com/exdb/mnist/train-labels-idx1-ubyte.gz\n",
            "Downloading http://yann.lecun.com/exdb/mnist/train-labels-idx1-ubyte.gz to ./dataset/MNIST/raw/train-labels-idx1-ubyte.gz\n"
          ]
        },
        {
          "output_type": "stream",
          "name": "stderr",
          "text": [
            "100%|██████████| 28881/28881 [00:00<00:00, 111851979.52it/s]\n"
          ]
        },
        {
          "output_type": "stream",
          "name": "stdout",
          "text": [
            "Extracting ./dataset/MNIST/raw/train-labels-idx1-ubyte.gz to ./dataset/MNIST/raw\n",
            "\n",
            "Downloading http://yann.lecun.com/exdb/mnist/t10k-images-idx3-ubyte.gz\n",
            "Downloading http://yann.lecun.com/exdb/mnist/t10k-images-idx3-ubyte.gz to ./dataset/MNIST/raw/t10k-images-idx3-ubyte.gz\n"
          ]
        },
        {
          "output_type": "stream",
          "name": "stderr",
          "text": [
            "100%|██████████| 1648877/1648877 [00:00<00:00, 127844783.29it/s]\n"
          ]
        },
        {
          "output_type": "stream",
          "name": "stdout",
          "text": [
            "Extracting ./dataset/MNIST/raw/t10k-images-idx3-ubyte.gz to ./dataset/MNIST/raw\n",
            "\n",
            "Downloading http://yann.lecun.com/exdb/mnist/t10k-labels-idx1-ubyte.gz\n",
            "Downloading http://yann.lecun.com/exdb/mnist/t10k-labels-idx1-ubyte.gz to ./dataset/MNIST/raw/t10k-labels-idx1-ubyte.gz\n"
          ]
        },
        {
          "output_type": "stream",
          "name": "stderr",
          "text": [
            "100%|██████████| 4542/4542 [00:00<00:00, 3290246.76it/s]"
          ]
        },
        {
          "output_type": "stream",
          "name": "stdout",
          "text": [
            "Extracting ./dataset/MNIST/raw/t10k-labels-idx1-ubyte.gz to ./dataset/MNIST/raw\n",
            "\n"
          ]
        },
        {
          "output_type": "stream",
          "name": "stderr",
          "text": [
            "\n",
            "/usr/local/lib/python3.10/dist-packages/torch/utils/data/dataloader.py:557: UserWarning: This DataLoader will create 4 worker processes in total. Our suggested max number of worker in current system is 2, which is smaller than what this DataLoader is going to create. Please be aware that excessive worker creation might get DataLoader running slow or even freeze, lower the worker number to avoid potential slowness/freeze if necessary.\n",
            "  warnings.warn(_create_warning_msg(\n"
          ]
        }
      ]
    },
    {
      "cell_type": "code",
      "source": [
        "import PIL\n",
        "from torchvision.transforms import transforms\n",
        "\n",
        "sample, label = train_dataset[0]\n",
        "img = transforms.ToPILImage()(sample)\n",
        "\n",
        "print(label)\n",
        "display(img)"
      ],
      "metadata": {
        "colab": {
          "base_uri": "https://localhost:8080/",
          "height": 63
        },
        "id": "5KKGjwv-kPEU",
        "outputId": "8c703505-52ee-44c0-d105-125648c51c05"
      },
      "execution_count": null,
      "outputs": [
        {
          "output_type": "stream",
          "name": "stdout",
          "text": [
            "5\n"
          ]
        },
        {
          "output_type": "display_data",
          "data": {
            "text/plain": [
              "<PIL.Image.Image image mode=L size=28x28>"
            ],
            "image/png": "[encoded data removed]"
          },
          "metadata": {}
        }
      ]
    },
    {
      "cell_type": "markdown",
      "metadata": {
        "id": "K54Z7PNIqTkO"
      },
      "source": [
        "#### <b>모델 학습 및 샘플링</b>\n",
        "\n",
        "* 학습을 위해 생성자와 판별자 모델을 초기화합니다.\n",
        "* 적절한 하이퍼 파라미터를 설정합니다."
      ]
    },
    {
      "cell_type": "code",
      "metadata": {
        "id": "tBZf0BmBaN7l"
      },
      "source": [
        "device = 'cuda'\n",
        "# 생성자(generator)와 판별자(discriminator) 초기화\n",
        "generator = Generator()\n",
        "discriminator = Discriminator()\n",
        "\n",
        "# 손실 함수(loss function)\n",
        "adversarial_loss = nn.BCELoss()\n",
        "\n",
        "generator = generator.to(device)\n",
        "discriminator = discriminator.to(device)\n",
        "adversarial_loss = adversarial_loss.to(device)\n",
        "\n",
        "# 학습률(learning rate) 설정\n",
        "lr = 0.0002\n",
        "\n",
        "# 생성자와 판별자를 위한 최적화 함수\n",
        "optimizer_G = torch.optim.AdamW(generator.parameters(), lr=lr, betas=(0.5, 0.999))\n",
        "optimizer_D = torch.optim.AdamW(discriminator.parameters(), lr=lr, betas=(0.5, 0.999))"
      ],
      "execution_count": null,
      "outputs": []
    },
    {
      "cell_type": "markdown",
      "metadata": {
        "id": "F9ThAQIOt-74"
      },
      "source": [
        "* 모델을 학습하면서 주기적으로 샘플링하여 결과를 확인할 수 있습니다."
      ]
    },
    {
      "cell_type": "code",
      "metadata": {
        "colab": {
          "base_uri": "https://localhost:8080/"
        },
        "id": "srQI5xI6ar-X",
        "outputId": "65d05998-ab19-45b8-bb3e-8f8fb65c59e9"
      },
      "source": [
        "import time\n",
        "\n",
        "n_epochs = 200 # 학습의 횟수(epoch) 설정\n",
        "sample_interval = 2000 # 몇 번의 배치(batch)마다 결과를 출력할 것인지 설정\n",
        "start_time = time.time()\n",
        "\n",
        "for epoch in range(n_epochs):\n",
        "    for i, (imgs, _) in enumerate(dataloader):\n",
        "\n",
        "        # 진짜(real) 이미지와 가짜(fake) 이미지에 대한 정답 레이블 생성\n",
        "        real = torch.ones((imgs.size(0), 1)).to(device) # 진짜(real): 1\n",
        "        fake = torch.zeros((imgs.size(0), 1)).to(device) # 가짜(fake): 0\n",
        "        real_imgs = imgs.to(device)\n",
        "\n",
        "        \"\"\" 생성자(generator)를 학습합니다. \"\"\"\n",
        "        optimizer_G.zero_grad()\n",
        "\n",
        "        z = torch.normal(mean=0, std=1, size=(imgs.shape[0], latent_dim)).to(device)\n",
        "        generated_imgs = generator(z)\n",
        "\n",
        "        ##### TODO: generator의 loss를 설계하세요.\n",
        "        ##### HINT: 위에 제공된 adversarial_loss를 활용하세요.\n",
        "        g_loss = ##\n",
        "        #######################################################\n",
        "        g_loss.backward()\n",
        "        optimizer_G.step()\n",
        "\n",
        "        \"\"\" 판별자(discriminator)를 학습합니다. \"\"\"\n",
        "        optimizer_D.zero_grad()\n",
        "\n",
        "        ##### TODO: Discriminator의 loss를 설계하세요.\n",
        "        ##### HINT: Generator를 학습시키지 않기 위해서,\n",
        "        #####       generated_imgs는 generated_imgs.detach()로 사용해야 합니다.\n",
        "        real_loss = ##\n",
        "        fake_loss = ##\n",
        "        d_loss = (real_loss + fake_loss) / 2\n",
        "        ######################################################################\n",
        "        d_loss.backward()\n",
        "        optimizer_D.step()\n",
        "\n",
        "        done = epoch * len(dataloader) + i\n",
        "        if done % sample_interval == 0:\n",
        "            # 생성된 이미지 중에서 25개만 선택하여 5 X 5 격자 이미지에 출력\n",
        "            save_image(generated_imgs.data[:25], f\"result/{done}.png\", nrow=5, normalize=True)\n",
        "\n",
        "    # 하나의 epoch이 끝날 때마다 로그(log) 출력\n",
        "    print(f\"[Epoch {epoch}/{n_epochs}] [D loss: {d_loss.item():.6f}] [G loss: {g_loss.item():.6f}] [Elapsed time: {time.time() - start_time:.2f}s]\")"
      ],
      "execution_count": null,
      "outputs": [
        {
          "output_type": "stream",
          "name": "stdout",
          "text": [
            "[Epoch 0/200] [D loss: 0.446626] [G loss: 0.894781] [Elapsed time: 14.01s]\n",
            "[Epoch 1/200] [D loss: 0.633342] [G loss: 0.438454] [Elapsed time: 28.87s]\n",
            "[Epoch 2/200] [D loss: 0.652284] [G loss: 0.389429] [Elapsed time: 42.35s]\n",
            "[Epoch 3/200] [D loss: 0.457366] [G loss: 1.061799] [Elapsed time: 56.36s]\n",
            "[Epoch 4/200] [D loss: 0.568809] [G loss: 0.602722] [Elapsed time: 70.09s]\n",
            "[Epoch 5/200] [D loss: 0.492135] [G loss: 0.877076] [Elapsed time: 84.06s]\n",
            "[Epoch 6/200] [D loss: 0.517846] [G loss: 0.897334] [Elapsed time: 98.21s]\n",
            "[Epoch 7/200] [D loss: 0.618305] [G loss: 0.471885] [Elapsed time: 112.65s]\n",
            "[Epoch 8/200] [D loss: 0.557629] [G loss: 0.764940] [Elapsed time: 127.11s]\n",
            "[Epoch 9/200] [D loss: 0.395843] [G loss: 1.120053] [Elapsed time: 141.43s]\n",
            "[Epoch 10/200] [D loss: 0.553836] [G loss: 0.585178] [Elapsed time: 155.83s]\n",
            "[Epoch 11/200] [D loss: 0.527404] [G loss: 0.756308] [Elapsed time: 170.55s]\n",
            "[Epoch 12/200] [D loss: 0.778111] [G loss: 0.308285] [Elapsed time: 186.88s]\n",
            "[Epoch 13/200] [D loss: 0.482887] [G loss: 1.016418] [Elapsed time: 201.42s]\n",
            "[Epoch 14/200] [D loss: 0.534383] [G loss: 0.872215] [Elapsed time: 216.04s]\n",
            "[Epoch 15/200] [D loss: 0.455433] [G loss: 1.383255] [Elapsed time: 230.49s]\n",
            "[Epoch 16/200] [D loss: 0.504815] [G loss: 1.225220] [Elapsed time: 245.05s]\n",
            "[Epoch 17/200] [D loss: 0.513087] [G loss: 1.705298] [Elapsed time: 259.71s]\n",
            "[Epoch 18/200] [D loss: 0.450152] [G loss: 1.186629] [Elapsed time: 274.49s]\n",
            "[Epoch 19/200] [D loss: 0.684795] [G loss: 0.398634] [Elapsed time: 289.05s]\n",
            "[Epoch 20/200] [D loss: 0.458514] [G loss: 1.345913] [Elapsed time: 304.58s]\n",
            "[Epoch 21/200] [D loss: 0.461275] [G loss: 1.339765] [Elapsed time: 320.02s]\n",
            "[Epoch 22/200] [D loss: 0.336423] [G loss: 1.344714] [Elapsed time: 334.90s]\n",
            "[Epoch 23/200] [D loss: 0.463795] [G loss: 1.017491] [Elapsed time: 349.66s]\n",
            "[Epoch 24/200] [D loss: 0.417915] [G loss: 1.084204] [Elapsed time: 364.42s]\n",
            "[Epoch 25/200] [D loss: 0.397597] [G loss: 1.383980] [Elapsed time: 378.93s]\n",
            "[Epoch 26/200] [D loss: 0.428366] [G loss: 1.216910] [Elapsed time: 393.60s]\n",
            "[Epoch 27/200] [D loss: 0.491236] [G loss: 1.802204] [Elapsed time: 408.06s]\n",
            "[Epoch 28/200] [D loss: 0.474019] [G loss: 0.831050] [Elapsed time: 422.35s]\n",
            "[Epoch 29/200] [D loss: 0.295029] [G loss: 1.854016] [Elapsed time: 436.58s]\n",
            "[Epoch 30/200] [D loss: 0.375720] [G loss: 1.646141] [Elapsed time: 450.77s]\n",
            "[Epoch 31/200] [D loss: 0.429765] [G loss: 1.077990] [Elapsed time: 465.22s]\n",
            "[Epoch 32/200] [D loss: 0.370494] [G loss: 1.576333] [Elapsed time: 479.45s]\n",
            "[Epoch 33/200] [D loss: 0.419894] [G loss: 1.438669] [Elapsed time: 494.01s]\n",
            "[Epoch 34/200] [D loss: 0.399931] [G loss: 1.622859] [Elapsed time: 508.14s]\n",
            "[Epoch 35/200] [D loss: 0.484682] [G loss: 0.865158] [Elapsed time: 525.05s]\n",
            "[Epoch 36/200] [D loss: 0.452807] [G loss: 0.845634] [Elapsed time: 539.60s]\n",
            "[Epoch 37/200] [D loss: 0.359597] [G loss: 1.940796] [Elapsed time: 553.84s]\n",
            "[Epoch 38/200] [D loss: 0.396134] [G loss: 1.399961] [Elapsed time: 568.01s]\n",
            "[Epoch 39/200] [D loss: 0.339421] [G loss: 1.380473] [Elapsed time: 582.27s]\n",
            "[Epoch 40/200] [D loss: 0.416042] [G loss: 1.893989] [Elapsed time: 596.87s]\n",
            "[Epoch 41/200] [D loss: 0.380464] [G loss: 1.008614] [Elapsed time: 611.24s]\n",
            "[Epoch 42/200] [D loss: 0.337564] [G loss: 1.333494] [Elapsed time: 625.46s]\n",
            "[Epoch 43/200] [D loss: 0.322051] [G loss: 2.146904] [Elapsed time: 642.46s]\n",
            "[Epoch 44/200] [D loss: 0.353232] [G loss: 2.122203] [Elapsed time: 656.57s]\n",
            "[Epoch 45/200] [D loss: 0.550083] [G loss: 3.078002] [Elapsed time: 671.31s]\n",
            "[Epoch 46/200] [D loss: 0.614649] [G loss: 0.515289] [Elapsed time: 685.96s]\n",
            "[Epoch 47/200] [D loss: 0.266056] [G loss: 1.338893] [Elapsed time: 700.32s]\n",
            "[Epoch 48/200] [D loss: 0.402089] [G loss: 0.995012] [Elapsed time: 714.66s]\n",
            "[Epoch 49/200] [D loss: 0.466158] [G loss: 1.198786] [Elapsed time: 729.18s]\n",
            "[Epoch 50/200] [D loss: 0.490353] [G loss: 1.865531] [Elapsed time: 743.70s]\n",
            "[Epoch 51/200] [D loss: 0.321071] [G loss: 1.257776] [Elapsed time: 758.09s]\n",
            "[Epoch 52/200] [D loss: 0.405020] [G loss: 2.316716] [Elapsed time: 772.41s]\n",
            "[Epoch 53/200] [D loss: 0.406020] [G loss: 0.940787] [Elapsed time: 786.96s]\n",
            "[Epoch 54/200] [D loss: 0.363463] [G loss: 1.218125] [Elapsed time: 801.15s]\n",
            "[Epoch 55/200] [D loss: 0.361111] [G loss: 1.754025] [Elapsed time: 815.35s]\n",
            "[Epoch 56/200] [D loss: 0.380905] [G loss: 1.416944] [Elapsed time: 829.67s]\n",
            "[Epoch 57/200] [D loss: 0.348959] [G loss: 1.501070] [Elapsed time: 844.23s]\n",
            "[Epoch 58/200] [D loss: 0.304939] [G loss: 1.906487] [Elapsed time: 860.01s]\n",
            "[Epoch 59/200] [D loss: 0.384198] [G loss: 0.958902] [Elapsed time: 874.11s]\n",
            "[Epoch 60/200] [D loss: 0.358877] [G loss: 1.092413] [Elapsed time: 888.57s]\n",
            "[Epoch 61/200] [D loss: 0.378602] [G loss: 1.088170] [Elapsed time: 902.98s]\n",
            "[Epoch 62/200] [D loss: 0.395305] [G loss: 1.151103] [Elapsed time: 917.56s]\n",
            "[Epoch 63/200] [D loss: 0.455035] [G loss: 2.425158] [Elapsed time: 932.03s]\n",
            "[Epoch 64/200] [D loss: 0.294078] [G loss: 1.613540] [Elapsed time: 946.73s]\n",
            "[Epoch 65/200] [D loss: 0.264584] [G loss: 2.047595] [Elapsed time: 961.12s]\n",
            "[Epoch 66/200] [D loss: 0.398011] [G loss: 1.145896] [Elapsed time: 977.89s]\n",
            "[Epoch 67/200] [D loss: 0.369887] [G loss: 1.946679] [Elapsed time: 992.32s]\n",
            "[Epoch 68/200] [D loss: 0.316810] [G loss: 1.336425] [Elapsed time: 1007.30s]\n",
            "[Epoch 69/200] [D loss: 0.315730] [G loss: 2.038757] [Elapsed time: 1021.78s]\n",
            "[Epoch 70/200] [D loss: 0.356575] [G loss: 1.858384] [Elapsed time: 1036.42s]\n",
            "[Epoch 71/200] [D loss: 0.388053] [G loss: 2.372055] [Elapsed time: 1050.90s]\n",
            "[Epoch 72/200] [D loss: 0.310949] [G loss: 1.695032] [Elapsed time: 1065.48s]\n",
            "[Epoch 73/200] [D loss: 0.324171] [G loss: 1.570798] [Elapsed time: 1080.08s]\n",
            "[Epoch 74/200] [D loss: 0.319430] [G loss: 1.656029] [Elapsed time: 1094.55s]\n",
            "[Epoch 75/200] [D loss: 0.322964] [G loss: 1.634387] [Elapsed time: 1108.99s]\n",
            "[Epoch 76/200] [D loss: 0.371179] [G loss: 1.513185] [Elapsed time: 1123.40s]\n",
            "[Epoch 77/200] [D loss: 0.267008] [G loss: 1.954826] [Elapsed time: 1137.80s]\n",
            "[Epoch 78/200] [D loss: 0.291011] [G loss: 2.702431] [Elapsed time: 1152.26s]\n",
            "[Epoch 79/200] [D loss: 0.330514] [G loss: 1.521326] [Elapsed time: 1166.58s]\n",
            "[Epoch 80/200] [D loss: 0.479005] [G loss: 0.964128] [Elapsed time: 1180.97s]\n",
            "[Epoch 81/200] [D loss: 0.646125] [G loss: 3.467352] [Elapsed time: 1197.39s]\n",
            "[Epoch 82/200] [D loss: 0.320144] [G loss: 1.504179] [Elapsed time: 1211.59s]\n",
            "[Epoch 83/200] [D loss: 0.313861] [G loss: 1.967254] [Elapsed time: 1225.79s]\n",
            "[Epoch 84/200] [D loss: 0.450688] [G loss: 0.950371] [Elapsed time: 1240.05s]\n",
            "[Epoch 85/200] [D loss: 0.367668] [G loss: 1.223224] [Elapsed time: 1254.20s]\n",
            "[Epoch 86/200] [D loss: 0.421105] [G loss: 2.544836] [Elapsed time: 1268.39s]\n",
            "[Epoch 87/200] [D loss: 0.279877] [G loss: 1.610509] [Elapsed time: 1282.46s]\n",
            "[Epoch 88/200] [D loss: 0.287891] [G loss: 1.714722] [Elapsed time: 1296.51s]\n",
            "[Epoch 89/200] [D loss: 0.303845] [G loss: 1.527258] [Elapsed time: 1313.48s]\n",
            "[Epoch 90/200] [D loss: 0.324739] [G loss: 1.859086] [Elapsed time: 1327.67s]\n",
            "[Epoch 91/200] [D loss: 0.447640] [G loss: 0.896400] [Elapsed time: 1341.81s]\n",
            "[Epoch 92/200] [D loss: 0.391930] [G loss: 2.113877] [Elapsed time: 1355.98s]\n",
            "[Epoch 93/200] [D loss: 0.311178] [G loss: 1.885037] [Elapsed time: 1370.74s]\n",
            "[Epoch 94/200] [D loss: 0.294844] [G loss: 2.513396] [Elapsed time: 1384.85s]\n",
            "[Epoch 95/200] [D loss: 0.350750] [G loss: 1.442845] [Elapsed time: 1399.32s]\n",
            "[Epoch 96/200] [D loss: 0.261333] [G loss: 1.563215] [Elapsed time: 1413.63s]\n",
            "[Epoch 97/200] [D loss: 0.381861] [G loss: 2.049729] [Elapsed time: 1428.04s]\n",
            "[Epoch 98/200] [D loss: 0.266682] [G loss: 1.731926] [Elapsed time: 1442.39s]\n",
            "[Epoch 99/200] [D loss: 0.431991] [G loss: 2.447387] [Elapsed time: 1456.75s]\n",
            "[Epoch 100/200] [D loss: 0.218503] [G loss: 1.821544] [Elapsed time: 1470.94s]\n",
            "[Epoch 101/200] [D loss: 0.291085] [G loss: 1.474163] [Elapsed time: 1485.67s]\n",
            "[Epoch 102/200] [D loss: 0.331744] [G loss: 2.130120] [Elapsed time: 1500.17s]\n",
            "[Epoch 103/200] [D loss: 0.327161] [G loss: 1.195812] [Elapsed time: 1514.67s]\n",
            "[Epoch 104/200] [D loss: 0.306139] [G loss: 1.414195] [Elapsed time: 1530.86s]\n",
            "[Epoch 105/200] [D loss: 0.335152] [G loss: 1.817174] [Elapsed time: 1545.51s]\n",
            "[Epoch 106/200] [D loss: 0.352461] [G loss: 1.604717] [Elapsed time: 1560.12s]\n",
            "[Epoch 107/200] [D loss: 0.349017] [G loss: 1.251458] [Elapsed time: 1574.67s]\n",
            "[Epoch 108/200] [D loss: 0.270001] [G loss: 2.034743] [Elapsed time: 1589.11s]\n",
            "[Epoch 109/200] [D loss: 0.330715] [G loss: 2.939806] [Elapsed time: 1603.61s]\n",
            "[Epoch 110/200] [D loss: 0.324693] [G loss: 2.573067] [Elapsed time: 1618.27s]\n",
            "[Epoch 111/200] [D loss: 0.264832] [G loss: 2.654435] [Elapsed time: 1632.83s]\n",
            "[Epoch 112/200] [D loss: 0.209584] [G loss: 1.969656] [Elapsed time: 1649.39s]\n",
            "[Epoch 113/200] [D loss: 0.374266] [G loss: 1.618311] [Elapsed time: 1663.90s]\n",
            "[Epoch 114/200] [D loss: 0.300363] [G loss: 2.657065] [Elapsed time: 1678.59s]\n",
            "[Epoch 115/200] [D loss: 0.320551] [G loss: 1.635423] [Elapsed time: 1693.19s]\n",
            "[Epoch 116/200] [D loss: 0.351232] [G loss: 2.240099] [Elapsed time: 1707.82s]\n",
            "[Epoch 117/200] [D loss: 0.280329] [G loss: 2.155574] [Elapsed time: 1722.80s]\n",
            "[Epoch 118/200] [D loss: 0.264539] [G loss: 1.390359] [Elapsed time: 1737.56s]\n",
            "[Epoch 119/200] [D loss: 0.330306] [G loss: 1.402265] [Elapsed time: 1752.12s]\n",
            "[Epoch 120/200] [D loss: 0.246858] [G loss: 2.056587] [Elapsed time: 1766.78s]\n",
            "[Epoch 121/200] [D loss: 0.300578] [G loss: 1.759214] [Elapsed time: 1781.28s]\n",
            "[Epoch 122/200] [D loss: 0.373317] [G loss: 2.117820] [Elapsed time: 1795.86s]\n",
            "[Epoch 123/200] [D loss: 0.564032] [G loss: 3.597976] [Elapsed time: 1810.29s]\n",
            "[Epoch 124/200] [D loss: 0.434476] [G loss: 0.917744] [Elapsed time: 1824.83s]\n",
            "[Epoch 125/200] [D loss: 0.454644] [G loss: 0.949823] [Elapsed time: 1839.26s]\n",
            "[Epoch 126/200] [D loss: 0.293367] [G loss: 1.502392] [Elapsed time: 1853.51s]\n",
            "[Epoch 127/200] [D loss: 0.429871] [G loss: 1.019770] [Elapsed time: 1868.24s]\n",
            "[Epoch 128/200] [D loss: 0.309527] [G loss: 2.755492] [Elapsed time: 1882.99s]\n",
            "[Epoch 129/200] [D loss: 0.263429] [G loss: 1.757693] [Elapsed time: 1897.56s]\n",
            "[Epoch 130/200] [D loss: 0.296494] [G loss: 1.720755] [Elapsed time: 1911.94s]\n",
            "[Epoch 131/200] [D loss: 0.270769] [G loss: 2.221703] [Elapsed time: 1926.30s]\n",
            "[Epoch 132/200] [D loss: 0.248535] [G loss: 2.538156] [Elapsed time: 1940.71s]\n",
            "[Epoch 133/200] [D loss: 0.214893] [G loss: 2.097723] [Elapsed time: 1954.88s]\n",
            "[Epoch 134/200] [D loss: 0.442248] [G loss: 1.077250] [Elapsed time: 1969.16s]\n",
            "[Epoch 135/200] [D loss: 0.289461] [G loss: 3.307851] [Elapsed time: 1983.32s]\n",
            "[Epoch 136/200] [D loss: 0.256015] [G loss: 1.986419] [Elapsed time: 2000.29s]\n",
            "[Epoch 137/200] [D loss: 0.284096] [G loss: 2.061849] [Elapsed time: 2014.60s]\n",
            "[Epoch 138/200] [D loss: 0.425651] [G loss: 1.249932] [Elapsed time: 2029.13s]\n",
            "[Epoch 139/200] [D loss: 0.259666] [G loss: 2.978605] [Elapsed time: 2043.37s]\n",
            "[Epoch 140/200] [D loss: 0.321522] [G loss: 2.077971] [Elapsed time: 2057.80s]\n",
            "[Epoch 141/200] [D loss: 0.342140] [G loss: 1.285423] [Elapsed time: 2072.12s]\n",
            "[Epoch 142/200] [D loss: 0.244096] [G loss: 2.095687] [Elapsed time: 2086.60s]\n",
            "[Epoch 143/200] [D loss: 0.186390] [G loss: 2.807281] [Elapsed time: 2100.91s]\n",
            "[Epoch 144/200] [D loss: 0.298523] [G loss: 1.625587] [Elapsed time: 2115.24s]\n",
            "[Epoch 145/200] [D loss: 0.189792] [G loss: 2.293335] [Elapsed time: 2129.71s]\n",
            "[Epoch 146/200] [D loss: 0.327070] [G loss: 1.644738] [Elapsed time: 2143.85s]\n",
            "[Epoch 147/200] [D loss: 0.347040] [G loss: 1.810980] [Elapsed time: 2158.00s]\n",
            "[Epoch 148/200] [D loss: 0.323657] [G loss: 1.741418] [Elapsed time: 2172.34s]\n",
            "[Epoch 149/200] [D loss: 0.295203] [G loss: 1.924790] [Elapsed time: 2186.69s]\n",
            "[Epoch 150/200] [D loss: 0.270908] [G loss: 2.231702] [Elapsed time: 2200.95s]\n",
            "[Epoch 151/200] [D loss: 0.232980] [G loss: 2.084108] [Elapsed time: 2218.04s]\n",
            "[Epoch 152/200] [D loss: 0.265945] [G loss: 1.692102] [Elapsed time: 2232.28s]\n",
            "[Epoch 153/200] [D loss: 0.302986] [G loss: 3.462423] [Elapsed time: 2246.61s]\n",
            "[Epoch 154/200] [D loss: 0.207097] [G loss: 1.984179] [Elapsed time: 2260.75s]\n",
            "[Epoch 155/200] [D loss: 0.351382] [G loss: 2.600499] [Elapsed time: 2275.52s]\n",
            "[Epoch 156/200] [D loss: 0.243108] [G loss: 2.011289] [Elapsed time: 2289.85s]\n",
            "[Epoch 157/200] [D loss: 0.289267] [G loss: 2.780962] [Elapsed time: 2304.27s]\n",
            "[Epoch 158/200] [D loss: 0.253765] [G loss: 1.675511] [Elapsed time: 2318.44s]\n",
            "[Epoch 159/200] [D loss: 0.266857] [G loss: 2.392491] [Elapsed time: 2333.04s]\n",
            "[Epoch 160/200] [D loss: 0.329658] [G loss: 1.875511] [Elapsed time: 2349.63s]\n",
            "[Epoch 161/200] [D loss: 0.388092] [G loss: 1.257367] [Elapsed time: 2364.25s]\n",
            "[Epoch 162/200] [D loss: 0.325000] [G loss: 2.517536] [Elapsed time: 2378.53s]\n",
            "[Epoch 163/200] [D loss: 0.378696] [G loss: 1.606251] [Elapsed time: 2392.82s]\n",
            "[Epoch 164/200] [D loss: 0.254009] [G loss: 2.069555] [Elapsed time: 2407.08s]\n",
            "[Epoch 165/200] [D loss: 0.267845] [G loss: 2.522490] [Elapsed time: 2421.48s]\n",
            "[Epoch 166/200] [D loss: 0.751106] [G loss: 5.853139] [Elapsed time: 2435.65s]\n",
            "[Epoch 167/200] [D loss: 0.520157] [G loss: 0.964276] [Elapsed time: 2450.00s]\n",
            "[Epoch 168/200] [D loss: 0.290397] [G loss: 2.068239] [Elapsed time: 2464.71s]\n",
            "[Epoch 169/200] [D loss: 0.397427] [G loss: 2.985569] [Elapsed time: 2478.95s]\n",
            "[Epoch 170/200] [D loss: 0.368293] [G loss: 1.625664] [Elapsed time: 2493.21s]\n",
            "[Epoch 171/200] [D loss: 0.404827] [G loss: 2.630399] [Elapsed time: 2507.46s]\n",
            "[Epoch 172/200] [D loss: 0.249712] [G loss: 2.437655] [Elapsed time: 2521.69s]\n",
            "[Epoch 173/200] [D loss: 0.349523] [G loss: 1.262544] [Elapsed time: 2536.08s]\n",
            "[Epoch 174/200] [D loss: 0.387202] [G loss: 2.828094] [Elapsed time: 2550.60s]\n",
            "[Epoch 175/200] [D loss: 0.268735] [G loss: 2.233607] [Elapsed time: 2567.51s]\n",
            "[Epoch 176/200] [D loss: 0.278094] [G loss: 2.248220] [Elapsed time: 2581.80s]\n",
            "[Epoch 177/200] [D loss: 0.346039] [G loss: 1.589750] [Elapsed time: 2596.17s]\n",
            "[Epoch 178/200] [D loss: 0.243168] [G loss: 1.728376] [Elapsed time: 2610.69s]\n",
            "[Epoch 179/200] [D loss: 0.372044] [G loss: 1.299736] [Elapsed time: 2625.05s]\n",
            "[Epoch 180/200] [D loss: 0.333268] [G loss: 1.369010] [Elapsed time: 2639.46s]\n",
            "[Epoch 181/200] [D loss: 0.293945] [G loss: 1.689990] [Elapsed time: 2654.15s]\n",
            "[Epoch 182/200] [D loss: 0.232882] [G loss: 2.065203] [Elapsed time: 2668.58s]\n",
            "[Epoch 183/200] [D loss: 0.507900] [G loss: 0.891195] [Elapsed time: 2683.51s]\n",
            "[Epoch 184/200] [D loss: 0.378499] [G loss: 1.585761] [Elapsed time: 2698.52s]\n",
            "[Epoch 185/200] [D loss: 0.376652] [G loss: 1.351707] [Elapsed time: 2712.98s]\n",
            "[Epoch 186/200] [D loss: 0.321811] [G loss: 2.064589] [Elapsed time: 2727.56s]\n",
            "[Epoch 187/200] [D loss: 0.318812] [G loss: 2.902988] [Elapsed time: 2742.06s]\n",
            "[Epoch 188/200] [D loss: 0.414117] [G loss: 3.505749] [Elapsed time: 2756.68s]\n",
            "[Epoch 189/200] [D loss: 0.328517] [G loss: 1.432179] [Elapsed time: 2771.15s]\n",
            "[Epoch 190/200] [D loss: 0.332286] [G loss: 1.690573] [Elapsed time: 2785.78s]\n",
            "[Epoch 191/200] [D loss: 0.310621] [G loss: 1.267900] [Elapsed time: 2800.13s]\n",
            "[Epoch 192/200] [D loss: 0.292507] [G loss: 1.847128] [Elapsed time: 2814.63s]\n",
            "[Epoch 193/200] [D loss: 0.329078] [G loss: 1.957478] [Elapsed time: 2828.76s]\n",
            "[Epoch 194/200] [D loss: 0.337570] [G loss: 2.244923] [Elapsed time: 2842.65s]\n",
            "[Epoch 195/200] [D loss: 0.321233] [G loss: 2.463206] [Elapsed time: 2856.71s]\n",
            "[Epoch 196/200] [D loss: 0.253693] [G loss: 2.301462] [Elapsed time: 2870.57s]\n",
            "[Epoch 197/200] [D loss: 0.438188] [G loss: 1.297071] [Elapsed time: 2884.48s]\n",
            "[Epoch 198/200] [D loss: 0.324879] [G loss: 2.032783] [Elapsed time: 2898.57s]\n",
            "[Epoch 199/200] [D loss: 0.343348] [G loss: 1.356688] [Elapsed time: 2914.08s]\n"
          ]
        }
      ]
    },
    {
      "cell_type": "markdown",
      "metadata": {
        "id": "dKhzqw6U8u-H"
      },
      "source": [
        "* 생성된 이미지 예시를 출력합니다."
      ]
    },
    {
      "cell_type": "code",
      "metadata": {
        "id": "FeC3eMGa8vc1"
      },
      "source": [
        "from IPython.display import Image\n",
        "\n",
        "Image('92000.png')"
      ],
      "execution_count": null,
      "outputs": []
    },
    {
      "cell_type": "markdown",
      "source": [
        "# Multihead Attention Implementation"
      ],
      "metadata": {
        "id": "aUHSvzrOslgU"
      }
    },
    {
      "cell_type": "code",
      "source": [
        "import torch.nn as nn\n",
        "\n",
        "class MultiHeadAttentionLayer(nn.Module):\n",
        "    def __init__(self, hidden_dim=768, n_heads=8, device='cuda'):\n",
        "        super().__init__()\n",
        "\n",
        "        assert hidden_dim % n_heads == 0\n",
        "\n",
        "        self.hidden_dim = hidden_dim # 임베딩 차원\n",
        "        self.n_heads = n_heads # 헤드(head)의 개수: 서로 다른 어텐션(attention) 컨셉의 수\n",
        "        self.head_dim = hidden_dim // n_heads # 각 헤드(head)에서의 임베딩 차원\n",
        "\n",
        "\n",
        "        #####TODO: Q,K,V를 만들기 위한 세 개의 linear module 구성하기\n",
        "        #####HINT: 해당 class의 input / out dim은 모두 hidden dim과 동일하다고 가정합니다.\n",
        "        self.fc_q = # query 값에 적용될 FC 레이어\n",
        "        self.fc_k = # key 값에 적용될 FC 레이어\n",
        "        self.fc_v = # value 값에 적용될 FC 레이어\n",
        "        #################################################################################\n",
        "\n",
        "        self.fc_o = nn.Linear(hidden_dim, hidden_dim)\n",
        "\n",
        "        self.scale = torch.sqrt(torch.FloatTensor([self.head_dim])).to(device)\n",
        "\n",
        "    def forward(self, query, key, value):\n",
        "\n",
        "        batch_size = query.shape[0]\n",
        "\n",
        "        # query: [batch_size, query_len, hidden_dim]\n",
        "        # key: [batch_size, key_len, hidden_dim]\n",
        "        # value: [batch_size, value_len, hidden_dim]\n",
        "\n",
        "        ##### TODO: Q,K,V 생성하기\n",
        "        Q = #\n",
        "        K = #\n",
        "        V = #\n",
        "        #########################\n",
        "        # Q: [batch_size, query_len, hidden_dim]\n",
        "        # K: [batch_size, key_len, hidden_dim]\n",
        "        # V: [batch_size, value_len, hidden_dim]\n",
        "\n",
        "\n",
        "        ##### TODO: hidden_dim → n_heads X head_dim 형태로 변형\n",
        "        ##### HINT: .view와 .permute를 사용해보세요!\n",
        "        ##### Q: [batch_size, query_len, hidden_dim] => [batch_size, n_heads, query_len, head_dim]\n",
        "        ##### K: [batch_size, key_len, hidden_dim]   => [batch_size, n_heads, key_len, head_dim]\n",
        "        ##### V: [batch_size, value_len, hidden_dim] => [batch_size, n_heads, value_len, hidden_dim]\n",
        "        Q = ##\n",
        "        K = ##\n",
        "        V = ##\n",
        "        ############################################################################################\n",
        "\n",
        "\n",
        "        ##### TODO: Attention Energy(Similiarity) / Score 계산\n",
        "        ##### HINT: 해당 Matrix는 4차원입니다. torch의 다차원 행렬곱 (torch.matmul)을 사용하고,\n",
        "        #####       .permute를 사용하여 행렬이 Transpose되도록 적절히 차원의 순서를 변경하세요.\n",
        "        energy = ##\n",
        "        ##### HINT: 어떤 축을 기준으로 softmax를 해야할까요?\n",
        "        ##### score: [batch_size, n_heads, query_len, key_len]\n",
        "        score  = ##\n",
        "        ######################################################################################\n",
        "\n",
        "        #  Scaled Dot-Product Attention을 계산\n",
        "        x = torch.matmul(score, V)\n",
        "        # x: [batch_size, n_heads, query_len, head_dim]\n",
        "\n",
        "        x = x.permute(0, 2, 1, 3).contiguous()\n",
        "        # x: [batch_size, query_len, n_heads, head_dim]\n",
        "\n",
        "        x = x.view(batch_size, -1, self.hidden_dim)\n",
        "        # x: [batch_size, query_len, hidden_dim]\n",
        "\n",
        "        x = self.fc_o(x)\n",
        "        # x: [batch_size, query_len, hidden_dim]\n",
        "\n",
        "        return x, score"
      ],
      "metadata": {
        "id": "hyZmpg7hwDFd"
      },
      "execution_count": null,
      "outputs": []
    },
    {
      "cell_type": "markdown",
      "source": [
        "## 정답"
      ],
      "metadata": {
        "id": "GmiqBm4vIbJc"
      }
    },
    {
      "cell_type": "code",
      "source": [
        "answer = torch.Tensor([[[-0.1632, -0.3923, -0.1880,  0.0097,  0.0657, -0.0539,  0.3968,\n",
        "           0.6771, -0.5740, -0.1323, -0.3527, -0.2200, -0.2332, -0.9086,\n",
        "           0.0321, -0.0847, -0.0698,  0.0040, -0.1179, -0.0800, -0.1619,\n",
        "           0.4520, -0.5898, -0.2019, -0.0072, -0.6319,  0.0394,  0.8672,\n",
        "          -0.0165,  0.0392,  0.5124, -0.9029, -0.1177,  0.4774,  0.0482,\n",
        "           0.2276, -0.4341, -0.9641, -0.6959, -0.0606, -0.2401, -0.3868,\n",
        "          -0.1382,  0.1295, -0.5624, -0.6337, -0.1560,  0.0847,  0.2148,\n",
        "           0.3581,  0.0647, -0.0222, -0.1514,  0.0068,  0.5101, -0.0324,\n",
        "           0.1693,  0.3731, -0.1654,  0.1863, -0.0343,  0.2678, -0.1978,\n",
        "           0.1282,  0.0679,  0.2835, -0.0860, -0.1652,  0.9319,  0.4850,\n",
        "           0.3394,  0.1817, -0.0627, -0.0060,  0.2428,  0.1568,  0.0638,\n",
        "          -0.1312, -0.3751, -0.4833,  0.7383, -0.3752,  0.1200,  0.0292,\n",
        "           0.0550, -0.2755, -0.1751,  0.3529, -0.2790,  0.0943,  0.2216,\n",
        "           0.1300, -0.1737, -0.2964, -0.3078,  0.0427, -0.1384,  0.0989,\n",
        "          -0.2037,  0.2713, -0.4173,  0.3733, -0.0172,  0.1233,  0.5338,\n",
        "          -0.2690, -0.3113, -0.1544,  0.1079,  0.1611,  0.1053,  0.1493,\n",
        "           0.1799, -0.0348,  0.0443, -0.0207,  0.1240, -0.2744, -0.3715,\n",
        "           0.0812, -0.3096,  0.3574, -0.6020, -0.0387,  0.2096, -0.3036,\n",
        "           0.5056, -0.1336],\n",
        "         [-0.1632, -0.3923, -0.1880,  0.0097,  0.0657, -0.0539,  0.3968,\n",
        "           0.6771, -0.5740, -0.1323, -0.3527, -0.2200, -0.2332, -0.9086,\n",
        "           0.0321, -0.0847, -0.0698,  0.0040, -0.1179, -0.0800, -0.1619,\n",
        "           0.4520, -0.5898, -0.2019, -0.0072, -0.6319,  0.0394,  0.8672,\n",
        "          -0.0165,  0.0392,  0.5124, -0.9029, -0.1177,  0.4774,  0.0482,\n",
        "           0.2276, -0.4341, -0.9641, -0.6959, -0.0606, -0.2401, -0.3868,\n",
        "          -0.1382,  0.1295, -0.5624, -0.6337, -0.1560,  0.0847,  0.2148,\n",
        "           0.3581,  0.0647, -0.0222, -0.1514,  0.0068,  0.5101, -0.0324,\n",
        "           0.1693,  0.3731, -0.1654,  0.1863, -0.0343,  0.2678, -0.1978,\n",
        "           0.1282,  0.0679,  0.2835, -0.0860, -0.1652,  0.9319,  0.4850,\n",
        "           0.3394,  0.1817, -0.0627, -0.0060,  0.2428,  0.1568,  0.0638,\n",
        "          -0.1312, -0.3751, -0.4833,  0.7383, -0.3752,  0.1200,  0.0292,\n",
        "           0.0550, -0.2755, -0.1751,  0.3529, -0.2790,  0.0943,  0.2216,\n",
        "           0.1300, -0.1737, -0.2964, -0.3078,  0.0427, -0.1384,  0.0989,\n",
        "          -0.2037,  0.2713, -0.4173,  0.3733, -0.0172,  0.1233,  0.5338,\n",
        "          -0.2690, -0.3113, -0.1544,  0.1079,  0.1611,  0.1053,  0.1493,\n",
        "           0.1799, -0.0348,  0.0443, -0.0207,  0.1240, -0.2744, -0.3715,\n",
        "           0.0812, -0.3096,  0.3574, -0.6020, -0.0387,  0.2096, -0.3036,\n",
        "           0.5056, -0.1336],\n",
        "         [-0.1632, -0.3923, -0.1880,  0.0097,  0.0657, -0.0539,  0.3968,\n",
        "           0.6771, -0.5740, -0.1323, -0.3527, -0.2200, -0.2332, -0.9086,\n",
        "           0.0321, -0.0847, -0.0698,  0.0040, -0.1179, -0.0800, -0.1619,\n",
        "           0.4520, -0.5898, -0.2019, -0.0072, -0.6319,  0.0394,  0.8672,\n",
        "          -0.0165,  0.0392,  0.5124, -0.9029, -0.1177,  0.4774,  0.0482,\n",
        "           0.2276, -0.4341, -0.9641, -0.6959, -0.0606, -0.2401, -0.3868,\n",
        "          -0.1382,  0.1295, -0.5624, -0.6337, -0.1560,  0.0847,  0.2148,\n",
        "           0.3581,  0.0647, -0.0222, -0.1514,  0.0068,  0.5101, -0.0324,\n",
        "           0.1693,  0.3731, -0.1654,  0.1863, -0.0343,  0.2678, -0.1978,\n",
        "           0.1282,  0.0679,  0.2835, -0.0860, -0.1652,  0.9319,  0.4850,\n",
        "           0.3394,  0.1817, -0.0627, -0.0060,  0.2428,  0.1568,  0.0638,\n",
        "          -0.1312, -0.3751, -0.4833,  0.7383, -0.3752,  0.1200,  0.0292,\n",
        "           0.0550, -0.2755, -0.1751,  0.3529, -0.2790,  0.0943,  0.2216,\n",
        "           0.1300, -0.1737, -0.2964, -0.3078,  0.0427, -0.1384,  0.0989,\n",
        "          -0.2037,  0.2713, -0.4173,  0.3733, -0.0172,  0.1233,  0.5338,\n",
        "          -0.2690, -0.3113, -0.1544,  0.1079,  0.1611,  0.1053,  0.1493,\n",
        "           0.1799, -0.0348,  0.0443, -0.0207,  0.1240, -0.2744, -0.3715,\n",
        "           0.0812, -0.3096,  0.3574, -0.6020, -0.0387,  0.2096, -0.3036,\n",
        "           0.5056, -0.1336]]]).to(device)"
      ],
      "metadata": {
        "id": "K2bUhz-1IPzz"
      },
      "execution_count": null,
      "outputs": []
    },
    {
      "cell_type": "markdown",
      "source": [
        "## 채점"
      ],
      "metadata": {
        "id": "1Io3aeCJIekZ"
      }
    },
    {
      "cell_type": "code",
      "source": [
        "import torch\n",
        "import random\n",
        "import torch.backends.cudnn as cudnn\n",
        "import numpy as np\n",
        "\n",
        "torch.manual_seed(0)\n",
        "torch.cuda.manual_seed(0)\n",
        "torch.cuda.manual_seed_all(0)\n",
        "np.random.seed(0)\n",
        "cudnn.benchmark = False\n",
        "cudnn.deterministic = True\n",
        "random.seed(0)\n",
        "\n",
        "# Check MultiHeadAttention\n",
        "rand_input = torch.ones((1,3,128)).to(device)\n",
        "MHA = MultiHeadAttentionLayer(hidden_dim=128).to(device)\n",
        "MHA_output = MHA(rand_input, rand_input, rand_input)\n",
        "if -0.002 < torch.sum(MHA_output[0] - answer) < 0.002:\n",
        "    print(\"sanity check passed\")\n",
        "else: print(\"sanity check failed\")"
      ],
      "metadata": {
        "id": "enZRft8cxRn3",
        "colab": {
          "base_uri": "https://localhost:8080/"
        },
        "outputId": "c9764bfc-d81f-4322-f2cf-a6789cdabf9b"
      },
      "execution_count": null,
      "outputs": [
        {
          "output_type": "stream",
          "name": "stdout",
          "text": [
            "sanity check passed\n"
          ]
        }
      ]
    },
    {
      "cell_type": "code",
      "source": [],
      "metadata": {
        "id": "jdIw9A3QHjyp"
      },
      "execution_count": null,
      "outputs": []
    }
  ]
}
